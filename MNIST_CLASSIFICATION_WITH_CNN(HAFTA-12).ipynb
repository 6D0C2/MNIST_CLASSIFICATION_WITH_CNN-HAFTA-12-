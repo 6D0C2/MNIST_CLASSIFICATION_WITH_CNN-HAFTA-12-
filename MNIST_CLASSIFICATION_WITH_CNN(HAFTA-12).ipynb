{
 "cells": [
  {
   "cell_type": "code",
   "execution_count": 1,
   "id": "ca867528-6c84-4a7a-861e-fb630764f3d6",
   "metadata": {},
   "outputs": [],
   "source": [
    "import tensorflow as tf \n",
    "from tensorflow import keras\n",
    "import matplotlib.pyplot as plt\n",
    "from sklearn.model_selection import train_test_split\n",
    "import numpy as np"
   ]
  },
  {
   "cell_type": "code",
   "execution_count": 3,
   "id": "4cd7508f-34ea-4ee8-b290-e180e7727695",
   "metadata": {},
   "outputs": [
    {
     "name": "stdout",
     "output_type": "stream",
     "text": [
      "Downloading data from https://storage.googleapis.com/tensorflow/tf-keras-datasets/mnist.npz\n",
      "11490434/11490434 [==============================] - 4s 0us/step\n"
     ]
    }
   ],
   "source": [
    "# MNIST veri setinin Keras kütüphanesi üzerinden yüklenmesi\n",
    "\n",
    "(x_train, y_train), (x_test, y_test) = keras.datasets.mnist.load_data()"
   ]
  },
  {
   "cell_type": "code",
   "execution_count": 5,
   "id": "934de587-effb-463a-8813-a04a5f45ef2e",
   "metadata": {},
   "outputs": [
    {
     "name": "stdout",
     "output_type": "stream",
     "text": [
      "Eğitim (Train) Verilerinin Sayısı ve boyutu = (60000, 28, 28, 1)\n",
      "Test verilerinin sayısı ve Boyutu = (10000, 28, 28, 1)\n"
     ]
    }
   ],
   "source": [
    "# Veri Ön İşleme - Adım 1 - Görüntülerin yeniden boyutlandırılması\n",
    "\n",
    "x_train = x_train.reshape(-1, 28, 28, 1) # -1: Görüntülerin toplam sayısı\n",
    "x_test = x_test.reshape(-1, 28, 28, 1)\n",
    "\n",
    "#Veri Ön İşleme - Adım 2 - Görüntülerin normalize edilmesi# -1: Görüntülerin toplam sayısı\n",
    "x_train = x_train.astype('float32') / 255.0\n",
    "x_test = x_test.astype('float32') / 255.0\n",
    "\n",
    "print(f\"Eğitim (Train) Verilerinin Sayısı ve boyutu = {x_train.shape}\")\n",
    "print(f\"Test verilerinin sayısı ve Boyutu = {x_test.shape}\")"
   ]
  },
  {
   "cell_type": "code",
   "execution_count": 7,
   "id": "a6fdf265-675c-41fc-9337-5487a49d53db",
   "metadata": {},
   "outputs": [
    {
     "data": {
      "text/plain": [
       "<matplotlib.image.AxesImage at 0x199fb945ff0>"
      ]
     },
     "execution_count": 7,
     "metadata": {},
     "output_type": "execute_result"
    },
    {
     "data": {
      "image/png": "[encoded data removed]",
      "text/plain": [
       "<Figure size 640x480 with 1 Axes>"
      ]
     },
     "metadata": {},
     "output_type": "display_data"
    }
   ],
   "source": [
    "# Çıkış verisi olarak bu gıral görüntülerini hangi rakamı temsil ettiğini gösteren y verilerini düzeliyoruz\n",
    "\n",
    "plt.imshow(x_train[50000],cmap=\"gray\")"
   ]
  },
  {
   "cell_type": "code",
   "execution_count": 9,
   "id": "686f9208-ef85-453c-890a-f2cf0bcc52a4",
   "metadata": {},
   "outputs": [
    {
     "data": {
      "text/plain": [
       "3"
      ]
     },
     "execution_count": 9,
     "metadata": {},
     "output_type": "execute_result"
    }
   ],
   "source": [
    "y_train[50000]"
   ]
  },
  {
   "cell_type": "code",
   "execution_count": 11,
   "id": "87c5a693-3339-4f9d-9090-f9930c85d187",
   "metadata": {},
   "outputs": [],
   "source": [
    "#One-hot Encoding\n",
    "y_train = keras.utils.to_categorical(y_train,10)\n",
    "y_test = keras.utils.to_categorical(y_test,10)"
   ]
  },
  {
   "cell_type": "code",
   "execution_count": 13,
   "id": "b416557a-07e6-407f-9e05-20cf07cbcbf0",
   "metadata": {},
   "outputs": [
    {
     "data": {
      "text/plain": [
       "array([0., 0., 0., 1., 0., 0., 0., 0., 0., 0.], dtype=float32)"
      ]
     },
     "execution_count": 13,
     "metadata": {},
     "output_type": "execute_result"
    }
   ],
   "source": [
    "y_train[50000]"
   ]
  },
  {
   "cell_type": "code",
   "execution_count": 15,
   "id": "30f9d45d-fea2-49a2-90c8-f582318c2953",
   "metadata": {},
   "outputs": [],
   "source": [
    "#Eğitim verilerinin %20'sinin doğrulama (validation) verisi olarak ayrılması Literatürde Data-split işlemi denilir.\n",
    "# bu işlem genellikle sklear altındaki train_test_split fonksiyonu ile yapılır\n",
    "\n",
    "X_train, X_val, y_train_split, y_val = train_test_split(\n",
    "    x_train, y_train,\n",
    "    test_size = 0.2, #validasyon verisi yüzde kaç olacak bilgisi burada\n",
    "    random_state = 42, # rastgelelik işlemini biraz sınırlı tutuyoruz\n",
    "    stratify = y_train # rastgele şekilde dağılım yaparken sınıf dengesini korur\n",
    "    )"
   ]
  },
  {
   "cell_type": "code",
   "execution_count": 17,
   "id": "cb3e3ed6-f276-41cc-98bc-92801a17fbae",
   "metadata": {},
   "outputs": [],
   "source": [
    "#CNN tabanlı yapayzeka modelimizi oluşturuyoruz\n",
    "model = keras.Sequential([\n",
    "    #CNN ilk blok\n",
    "    keras.layers.Conv2D(32, (3,3), activation = 'relu', input_shape =(28,28,1)),\n",
    "    keras.layers.BatchNormalization(),\n",
    "    keras.layers.Conv2D(32, (3,3), activation = 'relu'),\n",
    "    keras.layers.BatchNormalization(),\n",
    "    keras.layers.MaxPooling2D((2,2)),\n",
    "    keras.layers.Dropout(0.25),\n",
    "\n",
    "    #CNN ikinci blok\n",
    "    keras.layers.Conv2D(64, (3,3), activation = 'relu'),\n",
    "    keras.layers.BatchNormalization(),\n",
    "    keras.layers.Conv2D(64, (3,3), activation = 'relu'),\n",
    "    keras.layers.BatchNormalization(),\n",
    "    keras.layers.MaxPooling2D((2,2)),\n",
    "    keras.layers.Dropout(0.25),\n",
    "\n",
    "    #YAPAY SİNİR AĞI TANIMLIYORUZ\n",
    "    keras.layers.Flatten(),\n",
    "    keras.layers.Dense(512,activation='relu'),\n",
    "    keras.layers.BatchNormalization(),\n",
    "    keras.layers.Dropout(0.5),\n",
    "    keras.layers.Dense(10, activation = 'softmax')\n",
    "])"
   ]
  },
  {
   "cell_type": "code",
   "execution_count": 19,
   "id": "6da2471e-317a-4935-a7da-4b2c8480f06d",
   "metadata": {},
   "outputs": [],
   "source": [
    "#Modeli derliyoruz\n",
    "\n",
    "model.compile(\n",
    "    optimizer='adam',\n",
    "    loss = 'categorical_crossentropy',\n",
    "    metrics = ['accuracy']\n",
    ")"
   ]
  },
  {
   "cell_type": "code",
   "execution_count": 21,
   "id": "722139e2-03f6-4135-8ae0-7d5867a63f7c",
   "metadata": {},
   "outputs": [],
   "source": [
    "model_checkpoint = keras.callbacks.ModelCheckpoint(\n",
    "    'mnist_classifiction_cnn_model_h5',\n",
    "    monitor='val_accuracy',\n",
    "    save_best_only=True,\n",
    "    mode='max',\n",
    "    verbose=1\n",
    ")"
   ]
  },
  {
   "cell_type": "code",
   "execution_count": 23,
   "id": "11f6ead6-442f-43a4-8354-c51c863769d5",
   "metadata": {},
   "outputs": [
    {
     "name": "stdout",
     "output_type": "stream",
     "text": [
      "Epoch 1/10\n",
      "375/375 [==============================] - ETA: 0s - loss: 0.2013 - accuracy: 0.9396\n",
      "Epoch 1: val_accuracy improved from -inf to 0.15367, saving model to mnist_classifiction_cnn_model_h5\n"
     ]
    },
    {
     "name": "stderr",
     "output_type": "stream",
     "text": [
      "WARNING:absl:Found untraced functions such as _jit_compiled_convolution_op, _jit_compiled_convolution_op, _jit_compiled_convolution_op, _jit_compiled_convolution_op while saving (showing 4 of 4). These functions will not be directly callable after loading.\n"
     ]
    },
    {
     "name": "stdout",
     "output_type": "stream",
     "text": [
      "INFO:tensorflow:Assets written to: mnist_classifiction_cnn_model_h5\\assets\n"
     ]
    },
    {
     "name": "stderr",
     "output_type": "stream",
     "text": [
      "INFO:tensorflow:Assets written to: mnist_classifiction_cnn_model_h5\\assets\n"
     ]
    },
    {
     "name": "stdout",
     "output_type": "stream",
     "text": [
      "375/375 [==============================] - 66s 173ms/step - loss: 0.2013 - accuracy: 0.9396 - val_loss: 5.5589 - val_accuracy: 0.1537\n",
      "Epoch 2/10\n",
      "375/375 [==============================] - ETA: 0s - loss: 0.0667 - accuracy: 0.9790\n",
      "Epoch 2: val_accuracy improved from 0.15367 to 0.98433, saving model to mnist_classifiction_cnn_model_h5\n"
     ]
    },
    {
     "name": "stderr",
     "output_type": "stream",
     "text": [
      "WARNING:absl:Found untraced functions such as _jit_compiled_convolution_op, _jit_compiled_convolution_op, _jit_compiled_convolution_op, _jit_compiled_convolution_op while saving (showing 4 of 4). These functions will not be directly callable after loading.\n"
     ]
    },
    {
     "name": "stdout",
     "output_type": "stream",
     "text": [
      "INFO:tensorflow:Assets written to: mnist_classifiction_cnn_model_h5\\assets\n"
     ]
    },
    {
     "name": "stderr",
     "output_type": "stream",
     "text": [
      "INFO:tensorflow:Assets written to: mnist_classifiction_cnn_model_h5\\assets\n"
     ]
    },
    {
     "name": "stdout",
     "output_type": "stream",
     "text": [
      "375/375 [==============================] - 64s 170ms/step - loss: 0.0667 - accuracy: 0.9790 - val_loss: 0.0493 - val_accuracy: 0.9843\n",
      "Epoch 3/10\n",
      "375/375 [==============================] - ETA: 0s - loss: 0.0488 - accuracy: 0.9846\n",
      "Epoch 3: val_accuracy improved from 0.98433 to 0.98842, saving model to mnist_classifiction_cnn_model_h5\n"
     ]
    },
    {
     "name": "stderr",
     "output_type": "stream",
     "text": [
      "WARNING:absl:Found untraced functions such as _jit_compiled_convolution_op, _jit_compiled_convolution_op, _jit_compiled_convolution_op, _jit_compiled_convolution_op while saving (showing 4 of 4). These functions will not be directly callable after loading.\n"
     ]
    },
    {
     "name": "stdout",
     "output_type": "stream",
     "text": [
      "INFO:tensorflow:Assets written to: mnist_classifiction_cnn_model_h5\\assets\n"
     ]
    },
    {
     "name": "stderr",
     "output_type": "stream",
     "text": [
      "INFO:tensorflow:Assets written to: mnist_classifiction_cnn_model_h5\\assets\n"
     ]
    },
    {
     "name": "stdout",
     "output_type": "stream",
     "text": [
      "375/375 [==============================] - 66s 176ms/step - loss: 0.0488 - accuracy: 0.9846 - val_loss: 0.0363 - val_accuracy: 0.9884\n",
      "Epoch 4/10\n",
      "375/375 [==============================] - ETA: 0s - loss: 0.0399 - accuracy: 0.9871\n",
      "Epoch 4: val_accuracy improved from 0.98842 to 0.99108, saving model to mnist_classifiction_cnn_model_h5\n"
     ]
    },
    {
     "name": "stderr",
     "output_type": "stream",
     "text": [
      "WARNING:absl:Found untraced functions such as _jit_compiled_convolution_op, _jit_compiled_convolution_op, _jit_compiled_convolution_op, _jit_compiled_convolution_op while saving (showing 4 of 4). These functions will not be directly callable after loading.\n"
     ]
    },
    {
     "name": "stdout",
     "output_type": "stream",
     "text": [
      "INFO:tensorflow:Assets written to: mnist_classifiction_cnn_model_h5\\assets\n"
     ]
    },
    {
     "name": "stderr",
     "output_type": "stream",
     "text": [
      "INFO:tensorflow:Assets written to: mnist_classifiction_cnn_model_h5\\assets\n"
     ]
    },
    {
     "name": "stdout",
     "output_type": "stream",
     "text": [
      "375/375 [==============================] - 63s 168ms/step - loss: 0.0399 - accuracy: 0.9871 - val_loss: 0.0288 - val_accuracy: 0.9911\n",
      "Epoch 5/10\n",
      "375/375 [==============================] - ETA: 0s - loss: 0.0340 - accuracy: 0.9890\n",
      "Epoch 5: val_accuracy improved from 0.99108 to 0.99158, saving model to mnist_classifiction_cnn_model_h5\n"
     ]
    },
    {
     "name": "stderr",
     "output_type": "stream",
     "text": [
      "WARNING:absl:Found untraced functions such as _jit_compiled_convolution_op, _jit_compiled_convolution_op, _jit_compiled_convolution_op, _jit_compiled_convolution_op while saving (showing 4 of 4). These functions will not be directly callable after loading.\n"
     ]
    },
    {
     "name": "stdout",
     "output_type": "stream",
     "text": [
      "INFO:tensorflow:Assets written to: mnist_classifiction_cnn_model_h5\\assets\n"
     ]
    },
    {
     "name": "stderr",
     "output_type": "stream",
     "text": [
      "INFO:tensorflow:Assets written to: mnist_classifiction_cnn_model_h5\\assets\n"
     ]
    },
    {
     "name": "stdout",
     "output_type": "stream",
     "text": [
      "375/375 [==============================] - 60s 159ms/step - loss: 0.0340 - accuracy: 0.9890 - val_loss: 0.0299 - val_accuracy: 0.9916\n",
      "Epoch 6/10\n",
      "375/375 [==============================] - ETA: 0s - loss: 0.0311 - accuracy: 0.9900\n",
      "Epoch 6: val_accuracy improved from 0.99158 to 0.99192, saving model to mnist_classifiction_cnn_model_h5\n"
     ]
    },
    {
     "name": "stderr",
     "output_type": "stream",
     "text": [
      "WARNING:absl:Found untraced functions such as _jit_compiled_convolution_op, _jit_compiled_convolution_op, _jit_compiled_convolution_op, _jit_compiled_convolution_op while saving (showing 4 of 4). These functions will not be directly callable after loading.\n"
     ]
    },
    {
     "name": "stdout",
     "output_type": "stream",
     "text": [
      "INFO:tensorflow:Assets written to: mnist_classifiction_cnn_model_h5\\assets\n"
     ]
    },
    {
     "name": "stderr",
     "output_type": "stream",
     "text": [
      "INFO:tensorflow:Assets written to: mnist_classifiction_cnn_model_h5\\assets\n"
     ]
    },
    {
     "name": "stdout",
     "output_type": "stream",
     "text": [
      "375/375 [==============================] - 95s 255ms/step - loss: 0.0311 - accuracy: 0.9900 - val_loss: 0.0287 - val_accuracy: 0.9919\n",
      "Epoch 7/10\n",
      "375/375 [==============================] - ETA: 0s - loss: 0.0275 - accuracy: 0.9912\n",
      "Epoch 7: val_accuracy improved from 0.99192 to 0.99275, saving model to mnist_classifiction_cnn_model_h5\n"
     ]
    },
    {
     "name": "stderr",
     "output_type": "stream",
     "text": [
      "WARNING:absl:Found untraced functions such as _jit_compiled_convolution_op, _jit_compiled_convolution_op, _jit_compiled_convolution_op, _jit_compiled_convolution_op while saving (showing 4 of 4). These functions will not be directly callable after loading.\n"
     ]
    },
    {
     "name": "stdout",
     "output_type": "stream",
     "text": [
      "INFO:tensorflow:Assets written to: mnist_classifiction_cnn_model_h5\\assets\n"
     ]
    },
    {
     "name": "stderr",
     "output_type": "stream",
     "text": [
      "INFO:tensorflow:Assets written to: mnist_classifiction_cnn_model_h5\\assets\n"
     ]
    },
    {
     "name": "stdout",
     "output_type": "stream",
     "text": [
      "375/375 [==============================] - 103s 274ms/step - loss: 0.0275 - accuracy: 0.9912 - val_loss: 0.0241 - val_accuracy: 0.9927\n",
      "Epoch 8/10\n",
      "375/375 [==============================] - ETA: 0s - loss: 0.0268 - accuracy: 0.9911\n",
      "Epoch 8: val_accuracy did not improve from 0.99275\n",
      "375/375 [==============================] - 97s 260ms/step - loss: 0.0268 - accuracy: 0.9911 - val_loss: 0.0247 - val_accuracy: 0.9925\n",
      "Epoch 9/10\n",
      "375/375 [==============================] - ETA: 0s - loss: 0.0253 - accuracy: 0.9915\n",
      "Epoch 9: val_accuracy improved from 0.99275 to 0.99283, saving model to mnist_classifiction_cnn_model_h5\n"
     ]
    },
    {
     "name": "stderr",
     "output_type": "stream",
     "text": [
      "WARNING:absl:Found untraced functions such as _jit_compiled_convolution_op, _jit_compiled_convolution_op, _jit_compiled_convolution_op, _jit_compiled_convolution_op while saving (showing 4 of 4). These functions will not be directly callable after loading.\n"
     ]
    },
    {
     "name": "stdout",
     "output_type": "stream",
     "text": [
      "INFO:tensorflow:Assets written to: mnist_classifiction_cnn_model_h5\\assets\n"
     ]
    },
    {
     "name": "stderr",
     "output_type": "stream",
     "text": [
      "INFO:tensorflow:Assets written to: mnist_classifiction_cnn_model_h5\\assets\n"
     ]
    },
    {
     "name": "stdout",
     "output_type": "stream",
     "text": [
      "375/375 [==============================] - 104s 277ms/step - loss: 0.0253 - accuracy: 0.9915 - val_loss: 0.0297 - val_accuracy: 0.9928\n",
      "Epoch 10/10\n",
      "375/375 [==============================] - ETA: 0s - loss: 0.0218 - accuracy: 0.9930\n",
      "Epoch 10: val_accuracy improved from 0.99283 to 0.99333, saving model to mnist_classifiction_cnn_model_h5\n"
     ]
    },
    {
     "name": "stderr",
     "output_type": "stream",
     "text": [
      "WARNING:absl:Found untraced functions such as _jit_compiled_convolution_op, _jit_compiled_convolution_op, _jit_compiled_convolution_op, _jit_compiled_convolution_op while saving (showing 4 of 4). These functions will not be directly callable after loading.\n"
     ]
    },
    {
     "name": "stdout",
     "output_type": "stream",
     "text": [
      "INFO:tensorflow:Assets written to: mnist_classifiction_cnn_model_h5\\assets\n"
     ]
    },
    {
     "name": "stderr",
     "output_type": "stream",
     "text": [
      "INFO:tensorflow:Assets written to: mnist_classifiction_cnn_model_h5\\assets\n"
     ]
    },
    {
     "name": "stdout",
     "output_type": "stream",
     "text": [
      "375/375 [==============================] - 100s 268ms/step - loss: 0.0218 - accuracy: 0.9930 - val_loss: 0.0241 - val_accuracy: 0.9933\n"
     ]
    }
   ],
   "source": [
    "#Modelimizi eğitiyoruz(.fit fonksiyonu ile)\n",
    "\n",
    "history = model.fit(X_train, y_train_split, validation_data=(X_val, y_val),\n",
    "                  batch_size=128, epochs=10,  callbacks=model_checkpoint)"
   ]
  },
  {
   "cell_type": "code",
   "execution_count": 25,
   "id": "e6d3dd41-19bc-4040-890b-2973cb2b5056",
   "metadata": {},
   "outputs": [
    {
     "name": "stdout",
     "output_type": "stream",
     "text": [
      "Test işlemi için değerşnedirme yapılıyor\n",
      "313/313 [==============================] - 8s 26ms/step - loss: 0.0183 - accuracy: 0.9933\n",
      "Modelin Loss performansı = 0.018258394673466682\n",
      "Modelin Accuracy (Doğruluk Başarısı) Performansı = 0.9933000206947327\n"
     ]
    }
   ],
   "source": [
    "print(\"Test işlemi için değerşnedirme yapılıyor\")\n",
    "\n",
    "test_loss, test_accuracy = model.evaluate(x_test, y_test)\n",
    "\n",
    "print(f\"Modelin Loss performansı = {test_loss}\")\n",
    "print(f\"Modelin Accuracy (Doğruluk Başarısı) Performansı = {test_accuracy}\")"
   ]
  },
  {
   "cell_type": "code",
   "execution_count": null,
   "id": "65130783-9c8e-413f-8d11-56f3e3b5d5c9",
   "metadata": {},
   "outputs": [],
   "source": []
  }
 ],
 "metadata": {
  "kernelspec": {
   "display_name": "env_bst",
   "language": "python",
   "name": "env_bst"
  },
  "language_info": {
   "codemirror_mode": {
    "name": "ipython",
    "version": 3
   },
   "file_extension": ".py",
   "mimetype": "text/x-python",
   "name": "python",
   "nbconvert_exporter": "python",
   "pygments_lexer": "ipython3",
   "version": "3.10.10"
  }
 },
 "nbformat": 4,
 "nbformat_minor": 5
}
